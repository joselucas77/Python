{
 "cells": [
  {
   "cell_type": "raw",
   "metadata": {},
   "source": [
    "### porgramas a serem instalados:\n",
    "\n",
    "MEUS\n",
    "1 - unchecky\n",
    "2 - java\n",
    "3 - winrar\n",
    "4 - 7zip\n",
    "5 - chrome\n",
    "6 - libre\n",
    "13 - McAfee -> setup_win8 -> 7513xdat\n",
    "\n",
    "7 - adoberead\n",
    "8 - adobe x pro\n",
    "9 - cclean\n",
    "10 - spark\n",
    "11 -team viewer\n",
    "12 - client for onpen\n",
    "14 - MBSetup"
   ]
  },
  {
   "cell_type": "code",
   "execution_count": 2,
   "metadata": {},
   "outputs": [],
   "source": [
    "import pyautogui as py\n",
    "import pyperclip\n",
    "import time\n",
    "import pandas as pd\n",
    "import os\n",
    "#pip install pynput\n",
    "#from pynput.keyboard import key, Controller\n",
    "\n",
    "#keboard = controller()\n",
    "#keybiard.press(key.enter)\n",
    "\n",
    "py.PAUSE = 1"
   ]
  },
  {
   "cell_type": "raw",
   "metadata": {},
   "source": [
    "# abrir pendriver PROGRMAS\n",
    "\n",
    "def abrir_pendriver0():\n",
    "    pyautogui.press('winleft')\n",
    "    pyautogui.write('Meu computador')\n",
    "    pyautogui.press('enter')\n",
    "    pyautogui.press('Down',presses=9)\n",
    "    pyautogui.press('Right',presses=4)\n",
    "    pyautogui.press('enter')\n",
    "    pyautogui.press('down')\n",
    "    pyautogui.press('enter')\n",
    "\n",
    "\n",
    "abrir_pendriver0()"
   ]
  },
  {
   "cell_type": "raw",
   "metadata": {},
   "source": [
    "# abrir pendriver Programas\n",
    "\n",
    "def abrir_pendriver1():\n",
    "    pyautogui.press('winleft')\n",
    "    pyautogui.write('Meu computador')\n",
    "    pyautogui.press('enter')\n",
    "    pyautogui.press('Down',presses=9)\n",
    "    pyautogui.press('Right',presses=4)\n",
    "    pyautogui.press('enter')\n",
    "    pyautogui.press('down')\n",
    "    pyautogui.press('enter')\n",
    "    pyautogui.press('down', presses=7)\n",
    "    pyautogui.press('enter')\n",
    "\n",
    "\n",
    "abrir_pendriver1()"
   ]
  },
  {
   "cell_type": "code",
   "execution_count": 2,
   "metadata": {},
   "outputs": [],
   "source": [
    "## Abrir pendriver teste\n",
    "\n",
    "def abrir_pendriver1():\n",
    "    py.press('winleft')\n",
    "    py.write('Meu computador')\n",
    "    py.press('enter')\n",
    "    py.press('Down',presses=9)\n",
    "    py.press('Right',presses=4)\n",
    "    py.press('enter')\n",
    "    time.sleep(1)\n",
    "\n",
    "\n",
    "abrir_pendriver1()\n",
    "#time.sleep(2)\n",
    "#py.hotkey('alt', 'F4')"
   ]
  },
  {
   "cell_type": "raw",
   "metadata": {},
   "source": [
    "py.hotkey('win', 'tab')    \n",
    "time.sleep(2)             \n",
    "py.press('left', presses=2)\n",
    "py.press('enter')"
   ]
  },
  {
   "cell_type": "raw",
   "metadata": {},
   "source": [
    "# baixar unchecky (funcionando)\n",
    "\n",
    "def unchecky():\n",
    "    pyautogui.press('down', presses=5)\n",
    "    pyautogui.press('enter')\n",
    "    time.sleep(3)\n",
    "    pyautogui.press('enter')\n",
    "    time.sleep(3)\n",
    "    pyautogui.press('enter')\n",
    "\n",
    "\n",
    "unchecky()"
   ]
  },
  {
   "cell_type": "raw",
   "metadata": {},
   "source": [
    "# baixar java (precisa de internet)\n",
    "\n",
    "def java():                   \n",
    "    py.press('down', presses=3)\n",
    "    py.press('enter')\n",
    "    py.press('enter')\n",
    "    py.press('tab', presses=5)\n",
    "    py.press('enter')\n",
    "    time.sleep(60)\n",
    "    py.press('enter')\n",
    "    \n",
    "\n",
    "time.sleep(3)\n",
    "java()             "
   ]
  },
  {
   "cell_type": "raw",
   "metadata": {},
   "source": [
    "# baixar winrar (nao foi)               \n",
    "\n",
    "def winrar():\n",
    "    py.press('down', presses=6)\n",
    "    py.press('apps')\n",
    "    py.press('down', presses=2)\n",
    "    py.press('enter')\n",
    "    time.sleep(2)\n",
    "    py.press('enter')\n",
    "    time.sleep(2)\n",
    "    py.press('enter')\n",
    "    time.sleep(2)\n",
    "    py.press('enter')\n",
    "    time.sleep(2)\n",
    "    py.hotkey('alt', 'F4')\n",
    "\n",
    "winrar()"
   ]
  },
  {
   "cell_type": "raw",
   "metadata": {},
   "source": [
    "# baixar 7zip (funcionando)\n",
    "\n",
    "def seven_zip():\n",
    "    pyautogui.press('down', presses=1)\n",
    "    pyautogui.press('enter')\n",
    "    time.sleep(1)\n",
    "    pyautogui.press('enter')\n",
    "    pyautogui.press('a')\n",
    "    pyautogui.press('enter')\n",
    "    time.sleep(1)\n",
    "    pyautogui.press('enter')\n",
    "    time.sleep(1)\n",
    "    pyautogui.press('enter')\n",
    "    time.sleep(180)\n",
    "    pyautogui.press('enter')\n",
    "    time.sleep(2)\n",
    "    pyautogui.hotkey('alt' 'F4')\n",
    "\n",
    "\n",
    "\n",
    "seven_zip()"
   ]
  },
  {
   "cell_type": "raw",
   "metadata": {},
   "source": [
    "# baixar chrome\n",
    "\n",
    "def chrome():\n",
    "    pyautogui.press('down', presses=3)\n",
    "\n",
    "\n",
    "chrome()"
   ]
  },
  {
   "cell_type": "raw",
   "metadata": {},
   "source": [
    "# baixar libre (funcionando)\n",
    "\n",
    "def libre():\n",
    "    py.press('down', presses=4)\n",
    "    py.press('enter')\n",
    "    time.sleep(3)\n",
    "    py.press('enter')\n",
    "    py.press('enter')\n",
    "    py.press('enter')\n",
    "    time.sleep(120)\n",
    "    py.press('enter')\n",
    "\n",
    "\n",
    "py.PAUSE = 1\n",
    "libre()"
   ]
  },
  {
   "cell_type": "raw",
   "metadata": {},
   "source": [
    "# baixar McAfee (fora)\n",
    "\n",
    "def McAfee():\n",
    "    py.press('down')\n",
    "    py.press('up')\n",
    "    py.press('enter')\n",
    "\n",
    "\n",
    "def setup_win8():\n",
    "    py.press('down', presses=28)\n",
    "    py.press('enter')\n",
    "    time.sleep(15)\n",
    "    py.press('enter')\n",
    "    time.sleep(1)\n",
    "    py.press('tab', presses=2)\n",
    "    time.sleep(1)\n",
    "    py.press('down', presses=2)\n",
    "    time.sleep(1)\n",
    "    py.press('tab', presses=3)\n",
    "    time.sleep(1)\n",
    "    py.press('up')\n",
    "    time.sleep(1)\n",
    "    py.press('enter')\n",
    "    time.sleep(2)\n",
    "    py.press('enter')\n",
    "    time.sleep(1)\n",
    "    py.press('enter')\n",
    "    time.sleep(1)\n",
    "    py.press('enter')\n",
    "    time.sleep(305)\n",
    "\n",
    "\n",
    "def xdat():\n",
    "    py.press('down')\n",
    "    py.press('up')\n",
    "\n",
    "\n",
    "McAfee()\n",
    "time.sleep(5)\n",
    "setup_win8()\n",
    "#xdat()    \n",
    "\n",
    "    "
   ]
  },
  {
   "cell_type": "raw",
   "metadata": {},
   "source": [
    "# baixar adoberead\n",
    "\n",
    "def adoberead():\n",
    "    py.press('down', presses=2)\n",
    "    py.press('apps')\n",
    "    py.press('down', presses=2)\n",
    "    py.press('enter')\n",
    "    time.sleep(30)\n",
    "    py.press('tab', presses=3)\n",
    "    py.press('enter')\n",
    "    time.sleep(1)\n",
    "\n",
    "\n",
    "adoberead()"
   ]
  },
  {
   "cell_type": "raw",
   "metadata": {},
   "source": [
    "# baixar adobe x pro  1118-1198-4220-9702-0900-5584  C:/Windows/System32/drivers/etc   127.0.0.1 activate.adobe.com\n",
    "\n",
    "def xpro():\n",
    "    pyautogui.press('down')\n",
    "    pyautogui.press('up')\n",
    "    pyautogui.press('enter')\n",
    "    pyautogui.press('down')\n",
    "    pyautogui.press('enter')\n",
    "    pyautogui.press('down', presses=5)\n",
    "    \n",
    "\n",
    "\n",
    "def host():\n",
    "    pyautogui.hotkey('win', 'r')\n",
    "    pyautogui.write('C:/Windows/System32/drivers/etc')\n",
    "    pyautogui.press('enter')\n",
    "    pyautogui.press('down')\n",
    "    pyautogui.press('up')\n",
    "    pyautogui.press('enter')\n",
    "    pyautogui.press('tab')\n",
    "    pyautogui.press('down', presses=2)\n",
    "    pyautogui.press('enter')\n",
    "    pyautogui.press('down', presses=70)\n",
    "    pyautogui.press('left')\n",
    "    pyautogui.press('enter')\n",
    "    link= '127.0.0.1 activate.adobe.com'\n",
    "    pyperclip.copy(link)\n",
    "    pyautogui.hotkey('alt', 'F4')\n",
    "    pyautogui.press('enter')\n",
    "    pyautogui.hotkey('alt', 'F4')\n",
    "\n",
    "\n",
    "xpro()\n",
    "#host()\n",
    "\n"
   ]
  },
  {
   "cell_type": "raw",
   "metadata": {},
   "source": [
    "# baixar ccleaner (fora)\n",
    "\n",
    "def cclean():\n",
    "    py.press('down', presses=4)\n",
    "    \n",
    "\n",
    "cclean()"
   ]
  },
  {
   "cell_type": "raw",
   "metadata": {},
   "source": [
    "# baixar spark\n",
    "\n",
    "def spark():\n",
    "    pyautogui.press('down', presses=10)\n",
    "\n",
    "\n",
    "spark()    "
   ]
  },
  {
   "cell_type": "raw",
   "metadata": {},
   "source": [
    "# baixar teamviwer (fora)\n",
    "\n",
    "def teamviwer():\n",
    "    pyautogui.press('down', presses=23)\n",
    "\n",
    "\n",
    "teamviwer()"
   ]
  },
  {
   "cell_type": "code",
   "execution_count": null,
   "metadata": {},
   "outputs": [],
   "source": [
    "# baixar client for open\n",
    "\n",
    "def novel():\n",
    "    py.press('down', presses=4)\n",
    "    py.press('enter')\n",
    "    time.sleep(5)\n",
    "    py.press('enter')\n",
    "    time.sleep(2)\n",
    "    py.press('enter')\n",
    "    py.press('tab', presses=3)\n",
    "    py.press('a')\n",
    "    py.press('tab')\n",
    "    py.press('enter')\n",
    "    time.sleep(1)\n",
    "    py.press('enter')\n",
    "    time.sleep(120)\n",
    "\n",
    "novel()"
   ]
  },
  {
   "cell_type": "raw",
   "metadata": {},
   "source": [
    "# baixar MBSetup\n",
    "\n",
    "def MBSetup():\n",
    "    pyautogui.press('down', presses=7)\n",
    "\n",
    "\n",
    "MBSetup()"
   ]
  }
 ],
 "metadata": {
  "interpreter": {
   "hash": "cb9fe3d906bd73eefea4534420e440e77961581d9d6440972af4b1df747c9f91"
  },
  "kernelspec": {
   "display_name": "Python 3.10.1 64-bit",
   "language": "python",
   "name": "python3"
  },
  "language_info": {
   "codemirror_mode": {
    "name": "ipython",
    "version": 3
   },
   "file_extension": ".py",
   "mimetype": "text/x-python",
   "name": "python",
   "nbconvert_exporter": "python",
   "pygments_lexer": "ipython3",
   "version": "3.10.2"
  },
  "orig_nbformat": 4
 },
 "nbformat": 4,
 "nbformat_minor": 2
}
